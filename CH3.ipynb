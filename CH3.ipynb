{
  "nbformat": 4,
  "nbformat_minor": 0,
  "metadata": {
    "colab": {
      "name": "CH3.ipynb",
      "provenance": [],
      "collapsed_sections": []
    },
    "kernelspec": {
      "name": "python3",
      "display_name": "Python 3"
    },
    "accelerator": "GPU"
  },
  "cells": [
    {
      "cell_type": "markdown",
      "metadata": {
        "id": "Zupu8OdVCkpQ"
      },
      "source": [
        "IMDB Dataset"
      ]
    },
    {
      "cell_type": "code",
      "metadata": {
        "id": "jtTpf9w-GdKB",
        "colab": {
          "base_uri": "https://localhost:8080/"
        },
        "outputId": "f0bbe05a-353b-4a30-f68b-654bfb9178e0"
      },
      "source": [
        "from keras.datasets import imdb\r\n",
        "(train_data, train_labels), (test_data, test_labels) = imdb.load_data(num_words=10000)"
      ],
      "execution_count": null,
      "outputs": [
        {
          "output_type": "stream",
          "text": [
            "<string>:6: VisibleDeprecationWarning: Creating an ndarray from ragged nested sequences (which is a list-or-tuple of lists-or-tuples-or ndarrays with different lengths or shapes) is deprecated. If you meant to do this, you must specify 'dtype=object' when creating the ndarray\n",
            "/usr/local/lib/python3.6/dist-packages/tensorflow/python/keras/datasets/imdb.py:159: VisibleDeprecationWarning: Creating an ndarray from ragged nested sequences (which is a list-or-tuple of lists-or-tuples-or ndarrays with different lengths or shapes) is deprecated. If you meant to do this, you must specify 'dtype=object' when creating the ndarray\n",
            "  x_train, y_train = np.array(xs[:idx]), np.array(labels[:idx])\n",
            "/usr/local/lib/python3.6/dist-packages/tensorflow/python/keras/datasets/imdb.py:160: VisibleDeprecationWarning: Creating an ndarray from ragged nested sequences (which is a list-or-tuple of lists-or-tuples-or ndarrays with different lengths or shapes) is deprecated. If you meant to do this, you must specify 'dtype=object' when creating the ndarray\n",
            "  x_test, y_test = np.array(xs[idx:]), np.array(labels[idx:])\n"
          ],
          "name": "stderr"
        }
      ]
    },
    {
      "cell_type": "code",
      "metadata": {
        "id": "hz8zRULP-iqB"
      },
      "source": [
        "import numpy as np\r\n",
        "\r\n",
        "def vectorize_sequence(sequences, dimension=10000):\r\n",
        "  results = np.zeros((len(sequences), dimension))\r\n",
        "  for i, sequence in enumerate(sequences):\r\n",
        "    results[i, sequence] = 1.0\r\n",
        "  return results\r\n",
        "\r\n",
        "x_train = vectorize_sequence(train_data)\r\n",
        "x_test = vectorize_sequence(test_data)\r\n",
        "\r\n",
        "y_train = np.array(train_labels).astype('float32')\r\n",
        "y_test = np.array(test_labels).astype('float32')"
      ],
      "execution_count": null,
      "outputs": []
    },
    {
      "cell_type": "code",
      "metadata": {
        "id": "d6RG8aP0CG6v"
      },
      "source": [
        "from keras import models\r\n",
        "from keras import layers\r\n",
        "\r\n",
        "model = models.Sequential()\r\n",
        "model.add(layers.Dense(16, activation='relu', input_shape=(10000,)))\r\n",
        "model.add(layers.Dense(16, activation='relu'))\r\n",
        "model.add(layers.Dense(1, activation='sigmoid'))"
      ],
      "execution_count": null,
      "outputs": []
    },
    {
      "cell_type": "code",
      "metadata": {
        "id": "61rX5QvyGKtI"
      },
      "source": [
        "x_val = x_train[:10000]\r\n",
        "partial_x_train = x_train[10000:]\r\n",
        "\r\n",
        "y_val = y_train[:10000]\r\n",
        "partial_y_train = y_train[10000:]"
      ],
      "execution_count": null,
      "outputs": []
    },
    {
      "cell_type": "code",
      "metadata": {
        "colab": {
          "base_uri": "https://localhost:8080/"
        },
        "id": "UV7soxCPEhYV",
        "outputId": "a7643b1b-61a9-4ca9-dcbf-3d0016764515"
      },
      "source": [
        "model.compile(optimizer='rmsprop',\r\n",
        "       loss='binary_crossentropy',\r\n",
        "       metrics=['accuracy'])\r\n",
        "history = model.fit(partial_x_train,\r\n",
        "           partial_y_train,\r\n",
        "           epochs=20,\r\n",
        "           batch_size=512,\r\n",
        "           validation_data=(x_val,y_val))"
      ],
      "execution_count": null,
      "outputs": [
        {
          "output_type": "stream",
          "text": [
            "Epoch 1/20\n",
            "30/30 [==============================] - 3s 34ms/step - loss: 0.5931 - accuracy: 0.6989 - val_loss: 0.3950 - val_accuracy: 0.8643\n",
            "Epoch 2/20\n",
            "30/30 [==============================] - 1s 18ms/step - loss: 0.3292 - accuracy: 0.9013 - val_loss: 0.3081 - val_accuracy: 0.8904\n",
            "Epoch 3/20\n",
            "30/30 [==============================] - 1s 19ms/step - loss: 0.2324 - accuracy: 0.9286 - val_loss: 0.2839 - val_accuracy: 0.8893\n",
            "Epoch 4/20\n",
            "30/30 [==============================] - 1s 19ms/step - loss: 0.1833 - accuracy: 0.9424 - val_loss: 0.2805 - val_accuracy: 0.8877\n",
            "Epoch 5/20\n",
            "30/30 [==============================] - 1s 27ms/step - loss: 0.1459 - accuracy: 0.9558 - val_loss: 0.2871 - val_accuracy: 0.8857\n",
            "Epoch 6/20\n",
            "30/30 [==============================] - 1s 19ms/step - loss: 0.1188 - accuracy: 0.9673 - val_loss: 0.2920 - val_accuracy: 0.8856\n",
            "Epoch 7/20\n",
            "30/30 [==============================] - 1s 18ms/step - loss: 0.0951 - accuracy: 0.9763 - val_loss: 0.3022 - val_accuracy: 0.8844\n",
            "Epoch 8/20\n",
            "30/30 [==============================] - 1s 18ms/step - loss: 0.0764 - accuracy: 0.9809 - val_loss: 0.3235 - val_accuracy: 0.8791\n",
            "Epoch 9/20\n",
            "30/30 [==============================] - 1s 18ms/step - loss: 0.0598 - accuracy: 0.9860 - val_loss: 0.3524 - val_accuracy: 0.8803\n",
            "Epoch 10/20\n",
            "30/30 [==============================] - 1s 18ms/step - loss: 0.0498 - accuracy: 0.9910 - val_loss: 0.3635 - val_accuracy: 0.8786\n",
            "Epoch 11/20\n",
            "30/30 [==============================] - 1s 18ms/step - loss: 0.0389 - accuracy: 0.9927 - val_loss: 0.3916 - val_accuracy: 0.8751\n",
            "Epoch 12/20\n",
            "30/30 [==============================] - 1s 18ms/step - loss: 0.0308 - accuracy: 0.9943 - val_loss: 0.4229 - val_accuracy: 0.8764\n",
            "Epoch 13/20\n",
            "30/30 [==============================] - 1s 18ms/step - loss: 0.0244 - accuracy: 0.9965 - val_loss: 0.4561 - val_accuracy: 0.8740\n",
            "Epoch 14/20\n",
            "30/30 [==============================] - 1s 18ms/step - loss: 0.0188 - accuracy: 0.9975 - val_loss: 0.4824 - val_accuracy: 0.8727\n",
            "Epoch 15/20\n",
            "30/30 [==============================] - 1s 18ms/step - loss: 0.0119 - accuracy: 0.9993 - val_loss: 0.5197 - val_accuracy: 0.8695\n",
            "Epoch 16/20\n",
            "30/30 [==============================] - 1s 18ms/step - loss: 0.0114 - accuracy: 0.9991 - val_loss: 0.5498 - val_accuracy: 0.8700\n",
            "Epoch 17/20\n",
            "30/30 [==============================] - 1s 18ms/step - loss: 0.0103 - accuracy: 0.9984 - val_loss: 0.5817 - val_accuracy: 0.8698\n",
            "Epoch 18/20\n",
            "30/30 [==============================] - 1s 19ms/step - loss: 0.0058 - accuracy: 0.9996 - val_loss: 0.6161 - val_accuracy: 0.8698\n",
            "Epoch 19/20\n",
            "30/30 [==============================] - 1s 18ms/step - loss: 0.0041 - accuracy: 0.9997 - val_loss: 0.6448 - val_accuracy: 0.8686\n",
            "Epoch 20/20\n",
            "30/30 [==============================] - 1s 18ms/step - loss: 0.0044 - accuracy: 0.9993 - val_loss: 0.6856 - val_accuracy: 0.8680\n"
          ],
          "name": "stdout"
        }
      ]
    },
    {
      "cell_type": "code",
      "metadata": {
        "colab": {
          "base_uri": "https://localhost:8080/",
          "height": 295
        },
        "id": "AtbNA6NLFk_I",
        "outputId": "45aef77a-41b0-4b38-f5f4-c48a8636fefb"
      },
      "source": [
        "import matplotlib.pyplot as plt\r\n",
        "\r\n",
        "history_dict = history.history\r\n",
        "loss_values = history_dict['loss']\r\n",
        "val_loss_values = history_dict['val_loss']\r\n",
        "\r\n",
        "epochs = range(1, len(loss_values)+1)\r\n",
        "\r\n",
        "plt.plot(epochs, loss_values, 'bo', label='Training Loss')\r\n",
        "plt.plot(epochs, val_loss_values, 'b', label='Validation Loss')\r\n",
        "plt.title('Training and Validation Loss')\r\n",
        "plt.xlabel('Epochs')\r\n",
        "plt.ylabel('Loss')\r\n",
        "plt.legend()\r\n",
        "plt.show()"
      ],
      "execution_count": null,
      "outputs": [
        {
          "output_type": "display_data",
          "data": {
            "image/png": "[encoded data removed]",
            "text/plain": [
              "<Figure size 432x288 with 1 Axes>"
            ]
          },
          "metadata": {
            "tags": [],
            "needs_background": "light"
          }
        }
      ]
    },
    {
      "cell_type": "code",
      "metadata": {
        "colab": {
          "base_uri": "https://localhost:8080/",
          "height": 295
        },
        "id": "SDs-2KMdIP5P",
        "outputId": "3af4900d-3a4c-46ec-fb18-69b18108388c"
      },
      "source": [
        "acc = history_dict['accuracy']\r\n",
        "val_acc = history_dict['val_accuracy']\r\n",
        "\r\n",
        "plt.plot(epochs, acc, 'bo', label='Training Acc')\r\n",
        "plt.plot(epochs, val_acc, 'b', label='Validation Acc')\r\n",
        "plt.title('Training and Validation Acc')\r\n",
        "plt.xlabel('Epochs')\r\n",
        "plt.ylabel('Accuracy')\r\n",
        "plt.legend()\r\n",
        "plt.show()"
      ],
      "execution_count": null,
      "outputs": [
        {
          "output_type": "display_data",
          "data": {
            "image/png": "[encoded data removed]",
            "text/plain": [
              "<Figure size 432x288 with 1 Axes>"
            ]
          },
          "metadata": {
            "tags": [],
            "needs_background": "light"
          }
        }
      ]
    },
    {
      "cell_type": "markdown",
      "metadata": {
        "id": "kphfQvt23JYC"
      },
      "source": [
        "We'll choose epochs = 4 by the two plots above."
      ]
    },
    {
      "cell_type": "code",
      "metadata": {
        "colab": {
          "base_uri": "https://localhost:8080/"
        },
        "id": "af0FieeOJTOm",
        "outputId": "8923f9f9-2ecb-4469-a46d-2fea85abd780"
      },
      "source": [
        "model = models.Sequential()\r\n",
        "model.add(layers.Dense(16, activation='relu', input_shape=(10000,)))\r\n",
        "model.add(layers.Dense(16, activation='relu'))\r\n",
        "model.add(layers.Dense(1, activation='sigmoid'))\r\n",
        "\r\n",
        "model.compile(optimizer='rmsprop',\r\n",
        "       loss='binary_crossentropy',\r\n",
        "       metrics=['accuracy'])\r\n",
        "model.fit(x_train, y_train, epochs=4, batch_size=512)\r\n",
        "results = model.evaluate(x_test, y_test)"
      ],
      "execution_count": null,
      "outputs": [
        {
          "output_type": "stream",
          "text": [
            "Epoch 1/4\n",
            "49/49 [==============================] - 1s 12ms/step - loss: 0.5604 - accuracy: 0.7356\n",
            "Epoch 2/4\n",
            "49/49 [==============================] - 1s 11ms/step - loss: 0.2845 - accuracy: 0.9037\n",
            "Epoch 3/4\n",
            "49/49 [==============================] - 1s 11ms/step - loss: 0.2013 - accuracy: 0.9337\n",
            "Epoch 4/4\n",
            "49/49 [==============================] - 1s 11ms/step - loss: 0.1673 - accuracy: 0.9426\n",
            "782/782 [==============================] - 2s 2ms/step - loss: 0.2958 - accuracy: 0.8831\n"
          ],
          "name": "stdout"
        }
      ]
    },
    {
      "cell_type": "code",
      "metadata": {
        "colab": {
          "base_uri": "https://localhost:8080/"
        },
        "id": "5R0FNy7RJ_K7",
        "outputId": "34845373-d49a-4c5b-d5fc-627cb1a41ff6"
      },
      "source": [
        "model.predict(x_test)"
      ],
      "execution_count": null,
      "outputs": [
        {
          "output_type": "execute_result",
          "data": {
            "text/plain": [
              "array([[0.19003333],\n",
              "       [0.99967337],\n",
              "       [0.93167657],\n",
              "       ...,\n",
              "       [0.12064485],\n",
              "       [0.12881248],\n",
              "       [0.70156336]], dtype=float32)"
            ]
          },
          "metadata": {
            "tags": []
          },
          "execution_count": 9
        }
      ]
    },
    {
      "cell_type": "markdown",
      "metadata": {
        "id": "E6Vfgv-4KQ5J"
      },
      "source": [
        "Reuters Dataset"
      ]
    },
    {
      "cell_type": "code",
      "metadata": {
        "colab": {
          "base_uri": "https://localhost:8080/"
        },
        "id": "OA0LUXhICsBM",
        "outputId": "e7c9ad8c-79c6-4c27-8fc7-9e08a6bf5597"
      },
      "source": [
        "from keras.datasets import reuters\r\n",
        "\r\n",
        "(train_data, train_labels), (test_data, test_labels) = reuters.load_data(num_words=10000)"
      ],
      "execution_count": null,
      "outputs": [
        {
          "output_type": "stream",
          "text": [
            "Downloading data from https://storage.googleapis.com/tensorflow/tf-keras-datasets/reuters.npz\n",
            "2113536/2110848 [==============================] - 0s 0us/step\n"
          ],
          "name": "stdout"
        },
        {
          "output_type": "stream",
          "text": [
            "/usr/local/lib/python3.6/dist-packages/tensorflow/python/keras/datasets/reuters.py:148: VisibleDeprecationWarning: Creating an ndarray from ragged nested sequences (which is a list-or-tuple of lists-or-tuples-or ndarrays with different lengths or shapes) is deprecated. If you meant to do this, you must specify 'dtype=object' when creating the ndarray\n",
            "  x_train, y_train = np.array(xs[:idx]), np.array(labels[:idx])\n",
            "/usr/local/lib/python3.6/dist-packages/tensorflow/python/keras/datasets/reuters.py:149: VisibleDeprecationWarning: Creating an ndarray from ragged nested sequences (which is a list-or-tuple of lists-or-tuples-or ndarrays with different lengths or shapes) is deprecated. If you meant to do this, you must specify 'dtype=object' when creating the ndarray\n",
            "  x_test, y_test = np.array(xs[idx:]), np.array(labels[idx:])\n"
          ],
          "name": "stderr"
        }
      ]
    },
    {
      "cell_type": "code",
      "metadata": {
        "id": "YtS-aX7NDFdc"
      },
      "source": [
        "import numpy as np\r\n",
        "\r\n",
        "def vectorize_sequence(sequences, dimension=10000):\r\n",
        "  results = np.zeros((len(sequences), dimension))\r\n",
        "  for i, sequence in enumerate(sequences):\r\n",
        "    results[i, sequence] = 1.0\r\n",
        "  return results\r\n",
        "\r\n",
        "x_train = vectorize_sequence(train_data)\r\n",
        "x_test = vectorize_sequence(test_data)\r\n",
        "\r\n",
        "one_hot_train_labels = vectorize_sequence(train_labels, dimension=46)\r\n",
        "one_hot_test_labels = vectorize_sequence(test_labels, dimension=46)"
      ],
      "execution_count": null,
      "outputs": []
    },
    {
      "cell_type": "code",
      "metadata": {
        "id": "6FIpDQ1pDs_Q"
      },
      "source": [
        "from keras.utils import to_categorical\r\n",
        "\r\n",
        "one_hot_train_labels = to_categorical(train_labels)\r\n",
        "one_hot_test_labels = to_categorical(test_labels)"
      ],
      "execution_count": null,
      "outputs": []
    },
    {
      "cell_type": "code",
      "metadata": {
        "id": "yCW9w37LEZYo"
      },
      "source": [
        "from keras import models\r\n",
        "from keras import layers\r\n",
        "\r\n",
        "model = models.Sequential()\r\n",
        "model.add(layers.Dense(64, activation='relu', input_shape=(10000,)))\r\n",
        "model.add(layers.Dense(64, activation='relu'))\r\n",
        "model.add(layers.Dense(46, activation='softmax'))"
      ],
      "execution_count": null,
      "outputs": []
    },
    {
      "cell_type": "code",
      "metadata": {
        "id": "QjzldL6rFgvI"
      },
      "source": [
        "x_val = x_train[:1000]\r\n",
        "partial_x_train = x_train[1000:]\r\n",
        "\r\n",
        "y_val = one_hot_train_labels[:1000]\r\n",
        "partial_y_train = one_hot_train_labels[1000:]"
      ],
      "execution_count": null,
      "outputs": []
    },
    {
      "cell_type": "code",
      "metadata": {
        "colab": {
          "base_uri": "https://localhost:8080/"
        },
        "id": "q3lqzjYwFKtw",
        "outputId": "e838ffc7-34fd-4975-fd47-16f3d676def6"
      },
      "source": [
        "model.compile(optimizer='rmsprop',\r\n",
        "       loss='categorical_crossentropy',\r\n",
        "       metrics=['accuracy'])\r\n",
        "\r\n",
        "history = model.fit(partial_x_train,\r\n",
        "           partial_y_train,\r\n",
        "           epochs=20,\r\n",
        "           batch_size=512,\r\n",
        "           validation_data=(x_val,y_val))"
      ],
      "execution_count": null,
      "outputs": [
        {
          "output_type": "stream",
          "text": [
            "Epoch 1/20\n",
            "16/16 [==============================] - 2s 27ms/step - loss: 3.1475 - accuracy: 0.4211 - val_loss: 1.7599 - val_accuracy: 0.6640\n",
            "Epoch 2/20\n",
            "16/16 [==============================] - 0s 16ms/step - loss: 1.5091 - accuracy: 0.7132 - val_loss: 1.2850 - val_accuracy: 0.7210\n",
            "Epoch 3/20\n",
            "16/16 [==============================] - 0s 15ms/step - loss: 1.0690 - accuracy: 0.7747 - val_loss: 1.1058 - val_accuracy: 0.7690\n",
            "Epoch 4/20\n",
            "16/16 [==============================] - 0s 15ms/step - loss: 0.8116 - accuracy: 0.8238 - val_loss: 1.0170 - val_accuracy: 0.7870\n",
            "Epoch 5/20\n",
            "16/16 [==============================] - 0s 16ms/step - loss: 0.6419 - accuracy: 0.8654 - val_loss: 0.9694 - val_accuracy: 0.7990\n",
            "Epoch 6/20\n",
            "16/16 [==============================] - 0s 23ms/step - loss: 0.5243 - accuracy: 0.8931 - val_loss: 0.9380 - val_accuracy: 0.7980\n",
            "Epoch 7/20\n",
            "16/16 [==============================] - 0s 15ms/step - loss: 0.4215 - accuracy: 0.9151 - val_loss: 0.9108 - val_accuracy: 0.8150\n",
            "Epoch 8/20\n",
            "16/16 [==============================] - 0s 15ms/step - loss: 0.3332 - accuracy: 0.9327 - val_loss: 0.9196 - val_accuracy: 0.8190\n",
            "Epoch 9/20\n",
            "16/16 [==============================] - 0s 15ms/step - loss: 0.2876 - accuracy: 0.9383 - val_loss: 0.9522 - val_accuracy: 0.8020\n",
            "Epoch 10/20\n",
            "16/16 [==============================] - 0s 15ms/step - loss: 0.2440 - accuracy: 0.9457 - val_loss: 0.9210 - val_accuracy: 0.8090\n",
            "Epoch 11/20\n",
            "16/16 [==============================] - 0s 15ms/step - loss: 0.1956 - accuracy: 0.9564 - val_loss: 0.9665 - val_accuracy: 0.8100\n",
            "Epoch 12/20\n",
            "16/16 [==============================] - 0s 15ms/step - loss: 0.1784 - accuracy: 0.9560 - val_loss: 0.9623 - val_accuracy: 0.8090\n",
            "Epoch 13/20\n",
            "16/16 [==============================] - 0s 15ms/step - loss: 0.1538 - accuracy: 0.9576 - val_loss: 0.9958 - val_accuracy: 0.8090\n",
            "Epoch 14/20\n",
            "16/16 [==============================] - 0s 15ms/step - loss: 0.1400 - accuracy: 0.9600 - val_loss: 0.9786 - val_accuracy: 0.8120\n",
            "Epoch 15/20\n",
            "16/16 [==============================] - 0s 15ms/step - loss: 0.1320 - accuracy: 0.9614 - val_loss: 1.0573 - val_accuracy: 0.7980\n",
            "Epoch 16/20\n",
            "16/16 [==============================] - 0s 15ms/step - loss: 0.1215 - accuracy: 0.9642 - val_loss: 1.0466 - val_accuracy: 0.8030\n",
            "Epoch 17/20\n",
            "16/16 [==============================] - 0s 16ms/step - loss: 0.1186 - accuracy: 0.9611 - val_loss: 1.0638 - val_accuracy: 0.8110\n",
            "Epoch 18/20\n",
            "16/16 [==============================] - 0s 15ms/step - loss: 0.1162 - accuracy: 0.9595 - val_loss: 1.1562 - val_accuracy: 0.7970\n",
            "Epoch 19/20\n",
            "16/16 [==============================] - 0s 15ms/step - loss: 0.1081 - accuracy: 0.9638 - val_loss: 1.1057 - val_accuracy: 0.8070\n",
            "Epoch 20/20\n",
            "16/16 [==============================] - 0s 14ms/step - loss: 0.0982 - accuracy: 0.9617 - val_loss: 1.1117 - val_accuracy: 0.8030\n"
          ],
          "name": "stdout"
        }
      ]
    },
    {
      "cell_type": "code",
      "metadata": {
        "colab": {
          "base_uri": "https://localhost:8080/",
          "height": 295
        },
        "id": "7P4KHpjQF5y_",
        "outputId": "e81934cc-4454-4692-f89a-2eee11bd257e"
      },
      "source": [
        "import matplotlib.pyplot as plt\r\n",
        "\r\n",
        "history_dict = history.history\r\n",
        "loss_values = history_dict['loss']\r\n",
        "val_loss_values = history_dict['val_loss']\r\n",
        "\r\n",
        "epochs = range(1, len(loss_values)+1)\r\n",
        "\r\n",
        "plt.plot(epochs, loss_values, 'bo', label='Training Loss')\r\n",
        "plt.plot(epochs, val_loss_values, 'b', label='Validation Loss')\r\n",
        "plt.title('Training and Validation Loss')\r\n",
        "plt.xlabel('Epochs')\r\n",
        "plt.ylabel('Loss')\r\n",
        "plt.legend()\r\n",
        "plt.show()"
      ],
      "execution_count": null,
      "outputs": [
        {
          "output_type": "display_data",
          "data": {
            "image/png": "[encoded data removed]",
            "text/plain": [
              "<Figure size 432x288 with 1 Axes>"
            ]
          },
          "metadata": {
            "tags": [],
            "needs_background": "light"
          }
        }
      ]
    },
    {
      "cell_type": "code",
      "metadata": {
        "colab": {
          "base_uri": "https://localhost:8080/",
          "height": 295
        },
        "id": "0A_2IgGkGAVS",
        "outputId": "bb699eb2-cdb6-4b09-ac71-c01a6e0ca3bc"
      },
      "source": [
        "acc = history_dict['accuracy']\r\n",
        "val_acc = history_dict['val_accuracy']\r\n",
        "\r\n",
        "plt.plot(epochs, acc, 'bo', label='Training Acc')\r\n",
        "plt.plot(epochs, val_acc, 'b', label='Validation Acc')\r\n",
        "plt.title('Training and Validation Acc')\r\n",
        "plt.xlabel('Epochs')\r\n",
        "plt.ylabel('Accuracy')\r\n",
        "plt.legend()\r\n",
        "plt.show()"
      ],
      "execution_count": null,
      "outputs": [
        {
          "output_type": "display_data",
          "data": {
            "image/png": "[encoded data removed]",
            "text/plain": [
              "<Figure size 432x288 with 1 Axes>"
            ]
          },
          "metadata": {
            "tags": [],
            "needs_background": "light"
          }
        }
      ]
    },
    {
      "cell_type": "markdown",
      "metadata": {
        "id": "9KNWcchx25ss"
      },
      "source": [
        "We'll choose epochs = 9 by the two plots above."
      ]
    },
    {
      "cell_type": "code",
      "metadata": {
        "colab": {
          "base_uri": "https://localhost:8080/"
        },
        "id": "YWrSnpgmGG2b",
        "outputId": "469f1e74-167b-4311-99dc-1a9a42b98061"
      },
      "source": [
        "model = models.Sequential()\r\n",
        "model.add(layers.Dense(64, activation='relu', input_shape=(10000,)))\r\n",
        "model.add(layers.Dense(64, activation='relu'))\r\n",
        "model.add(layers.Dense(46, activation='softmax'))\r\n",
        "\r\n",
        "model.compile(optimizer='rmsprop',\r\n",
        "       loss='categorical_crossentropy',\r\n",
        "       metrics=['accuracy'])\r\n",
        "\r\n",
        "model.fit(x_train, one_hot_train_labels, epochs=9, batch_size=512)\r\n",
        "results = model.evaluate(x_test, one_hot_test_labels)"
      ],
      "execution_count": null,
      "outputs": [
        {
          "output_type": "stream",
          "text": [
            "Epoch 1/9\n",
            "18/18 [==============================] - 1s 12ms/step - loss: 3.1282 - accuracy: 0.4547\n",
            "Epoch 2/9\n",
            "18/18 [==============================] - 0s 11ms/step - loss: 1.4247 - accuracy: 0.7135\n",
            "Epoch 3/9\n",
            "18/18 [==============================] - 0s 11ms/step - loss: 1.0420 - accuracy: 0.7819\n",
            "Epoch 4/9\n",
            "18/18 [==============================] - 0s 11ms/step - loss: 0.8044 - accuracy: 0.8323\n",
            "Epoch 5/9\n",
            "18/18 [==============================] - 0s 12ms/step - loss: 0.6092 - accuracy: 0.8709\n",
            "Epoch 6/9\n",
            "18/18 [==============================] - 0s 12ms/step - loss: 0.4849 - accuracy: 0.8973\n",
            "Epoch 7/9\n",
            "18/18 [==============================] - 0s 11ms/step - loss: 0.3946 - accuracy: 0.9162\n",
            "Epoch 8/9\n",
            "18/18 [==============================] - 0s 12ms/step - loss: 0.3143 - accuracy: 0.9306\n",
            "Epoch 9/9\n",
            "18/18 [==============================] - 0s 11ms/step - loss: 0.2740 - accuracy: 0.9354\n",
            "71/71 [==============================] - 0s 2ms/step - loss: 0.9670 - accuracy: 0.7961\n"
          ],
          "name": "stdout"
        }
      ]
    },
    {
      "cell_type": "code",
      "metadata": {
        "colab": {
          "base_uri": "https://localhost:8080/"
        },
        "id": "Rhd_xlewG8-6",
        "outputId": "82ab50fa-9e1a-4c03-a78b-0f65eaebc8bc"
      },
      "source": [
        "model.predict(x_test)"
      ],
      "execution_count": null,
      "outputs": [
        {
          "output_type": "execute_result",
          "data": {
            "text/plain": [
              "array([[2.1829328e-04, 5.6282086e-05, 4.9188125e-06, ..., 2.9040168e-05,\n",
              "        8.6913661e-07, 4.2375323e-06],\n",
              "       [9.7329859e-03, 1.0935725e-02, 2.6923386e-05, ..., 1.9708637e-05,\n",
              "        1.7557056e-04, 9.4760326e-06],\n",
              "       [6.9052991e-03, 8.5128254e-01, 1.0210836e-03, ..., 2.2016160e-04,\n",
              "        2.5081776e-05, 5.9510843e-04],\n",
              "       ...,\n",
              "       [7.7775716e-05, 2.3635699e-04, 1.8331006e-05, ..., 3.4398429e-06,\n",
              "        3.6592903e-07, 5.3944118e-06],\n",
              "       [3.1344838e-02, 5.3475846e-02, 1.0595629e-03, ..., 5.8277050e-04,\n",
              "        8.7817774e-05, 2.3402911e-04],\n",
              "       [5.0541493e-03, 4.1097355e-01, 4.4980198e-03, ..., 7.2682952e-04,\n",
              "        4.6505134e-05, 5.7497661e-04]], dtype=float32)"
            ]
          },
          "metadata": {
            "tags": []
          },
          "execution_count": 14
        }
      ]
    },
    {
      "cell_type": "markdown",
      "metadata": {
        "id": "w3s5ImFfH88P"
      },
      "source": [
        "Boston House Price"
      ]
    },
    {
      "cell_type": "code",
      "metadata": {
        "id": "mH35Fvz7HARw",
        "colab": {
          "base_uri": "https://localhost:8080/"
        },
        "outputId": "cfac178e-2db4-46ba-bb92-e3ce25d4a515"
      },
      "source": [
        "from keras.datasets import boston_housing\r\n",
        "\r\n",
        "(train_data, train_targets), (test_data, test_targets) = boston_housing.load_data()"
      ],
      "execution_count": 1,
      "outputs": [
        {
          "output_type": "stream",
          "text": [
            "Downloading data from https://storage.googleapis.com/tensorflow/tf-keras-datasets/boston_housing.npz\n",
            "57344/57026 [==============================] - 0s 0us/step\n"
          ],
          "name": "stdout"
        }
      ]
    },
    {
      "cell_type": "code",
      "metadata": {
        "id": "dgVie0xrIkvS"
      },
      "source": [
        "mean = train_data.mean(axis=0)\r\n",
        "train_data -= mean\r\n",
        "std = train_data.std(axis=0)\r\n",
        "train_data /= std\r\n",
        "\r\n",
        "test_data -= mean\r\n",
        "test_data /= std"
      ],
      "execution_count": 2,
      "outputs": []
    },
    {
      "cell_type": "code",
      "metadata": {
        "id": "RTpzIZGqJJR1"
      },
      "source": [
        "from keras import models\r\n",
        "from keras import layers\r\n",
        "\r\n",
        "def build_model():\r\n",
        "  model = models.Sequential()\r\n",
        "  model.add(layers.Dense(64, activation='relu', input_shape=(train_data.shape[1],)))\r\n",
        "  model.add(layers.Dense(64, activation='relu'))\r\n",
        "  model.add(layers.Dense(1))\r\n",
        "  model.compile(optimizer='rmsprop', loss='mse', metrics=['mae'])\r\n",
        "  return model"
      ],
      "execution_count": 17,
      "outputs": []
    },
    {
      "cell_type": "code",
      "metadata": {
        "id": "H9zkB4JcJ7DC",
        "colab": {
          "base_uri": "https://localhost:8080/"
        },
        "outputId": "20802267-10c0-4c88-9ecc-caea65d8f982"
      },
      "source": [
        "import numpy as np\r\n",
        "\r\n",
        "k = 4\r\n",
        "num_val_samples = len(train_data) // k\r\n",
        "num_epochs = 100\r\n",
        "all_scores = []\r\n",
        "\r\n",
        "for i in range(k):\r\n",
        "  print('process #', i)\r\n",
        "  val_data = train_data[i * num_val_samples: (i+1) * num_val_samples]\r\n",
        "  val_target = train_targets[i * num_val_samples: (i+1) * num_val_samples]\r\n",
        "  partial_train_data = np.concatenate([train_data[:i * num_val_samples],train_data[(i+1) * num_val_samples:]], axis = 0)\r\n",
        "  partial_train_targets = np.concatenate([train_targets[:i * num_val_samples],train_targets[(i+1) * num_val_samples:]], axis = 0)\r\n",
        "\r\n",
        "  model = build_model()\r\n",
        "  model.fit(partial_train_data, partial_train_targets, epochs = num_epochs, batch_size = 1, verbose = 0)\r\n",
        "  val_mse, val_mae = model.evaluate(val_data, val_target, verbose = 0)\r\n",
        "  all_scores.append(val_mae)"
      ],
      "execution_count": 21,
      "outputs": [
        {
          "output_type": "stream",
          "text": [
            "process # 0\n",
            "process # 1\n",
            "process # 2\n",
            "process # 3\n"
          ],
          "name": "stdout"
        }
      ]
    },
    {
      "cell_type": "code",
      "metadata": {
        "colab": {
          "base_uri": "https://localhost:8080/"
        },
        "id": "y-mQGgif3SYl",
        "outputId": "6897a760-c187-478f-bbf9-b242db1c0ea9"
      },
      "source": [
        "np.mean(all_scores)"
      ],
      "execution_count": 22,
      "outputs": [
        {
          "output_type": "execute_result",
          "data": {
            "text/plain": [
              "2.3917568922042847"
            ]
          },
          "metadata": {
            "tags": []
          },
          "execution_count": 22
        }
      ]
    },
    {
      "cell_type": "code",
      "metadata": {
        "colab": {
          "base_uri": "https://localhost:8080/"
        },
        "id": "-M6lkxOR3kMF",
        "outputId": "6a5b329a-0e80-4271-99f1-e37fd85a82be"
      },
      "source": [
        "k = 4\r\n",
        "num_val_samples = len(train_data) // k\r\n",
        "num_epochs = 500\r\n",
        "all_mae_histories = []\r\n",
        "\r\n",
        "for i in range(k):\r\n",
        "  print('process #', i)\r\n",
        "  val_data = train_data[i * num_val_samples: (i+1) * num_val_samples]\r\n",
        "  val_target = train_targets[i * num_val_samples: (i+1) * num_val_samples]\r\n",
        "  partial_train_data = np.concatenate([train_data[:i * num_val_samples],train_data[(i+1) * num_val_samples:]], axis = 0)\r\n",
        "  partial_train_targets = np.concatenate([train_targets[:i * num_val_samples],train_targets[(i+1) * num_val_samples:]], axis = 0)\r\n",
        "\r\n",
        "  model = build_model()\r\n",
        "  history = model.fit(partial_train_data, partial_train_targets, validation_data=(val_data, val_target), epochs = num_epochs, batch_size = 1, verbose = 0)\r\n",
        "  mae_history = history.history['mae']\r\n",
        "  all_mae_histories.append(mae_history)"
      ],
      "execution_count": 23,
      "outputs": [
        {
          "output_type": "stream",
          "text": [
            "process # 0\n",
            "process # 1\n",
            "process # 2\n",
            "process # 3\n"
          ],
          "name": "stdout"
        }
      ]
    },
    {
      "cell_type": "code",
      "metadata": {
        "id": "5ow6nw303qvn"
      },
      "source": [
        "average_mae_history = [np.mean([x[i] for x in all_mae_histories]) for i in range(num_epochs)]"
      ],
      "execution_count": 24,
      "outputs": []
    },
    {
      "cell_type": "code",
      "metadata": {
        "colab": {
          "base_uri": "https://localhost:8080/",
          "height": 279
        },
        "id": "wxBVc0h_4o77",
        "outputId": "ea71bc7c-0f1c-4750-bd6b-2fd0f38b0228"
      },
      "source": [
        "import matplotlib.pyplot as plt\r\n",
        "\r\n",
        "plt.plot(range(1, len(average_mae_history) + 1), average_mae_history)\r\n",
        "plt.xlabel('Epochs')\r\n",
        "plt.ylabel('Validation MAE')\r\n",
        "plt.show()"
      ],
      "execution_count": 25,
      "outputs": [
        {
          "output_type": "display_data",
          "data": {
            "image/png": "[encoded data removed]",
            "text/plain": [
              "<Figure size 432x288 with 1 Axes>"
            ]
          },
          "metadata": {
            "tags": [],
            "needs_background": "light"
          }
        }
      ]
    },
    {
      "cell_type": "code",
      "metadata": {
        "colab": {
          "base_uri": "https://localhost:8080/",
          "height": 279
        },
        "id": "9ophAr_G5y9o",
        "outputId": "055f544d-2dac-4968-89aa-83309d5c3734"
      },
      "source": [
        "def smooth_curve(points, factor=0.9):\r\n",
        "  smoothed_points = []\r\n",
        "  for point in points:\r\n",
        "    if smoothed_points:\r\n",
        "      previous = smoothed_points[-1]\r\n",
        "      smoothed_points.append(previous * (1-factor) + point * factor)\r\n",
        "    else:\r\n",
        "      smoothed_points.append(point)\r\n",
        "  return smoothed_points\r\n",
        "\r\n",
        "smooth_mae_history = smooth_curve(average_mae_history[10:])\r\n",
        "\r\n",
        "plt.plot(range(1, len(smooth_mae_history) + 1), smooth_mae_history)\r\n",
        "plt.xlabel('Epochs')\r\n",
        "plt.ylabel('Validation MAE')\r\n",
        "plt.show()"
      ],
      "execution_count": 31,
      "outputs": [
        {
          "output_type": "display_data",
          "data": {
            "image/png": "[encoded data removed]",
            "text/plain": [
              "<Figure size 432x288 with 1 Axes>"
            ]
          },
          "metadata": {
            "tags": [],
            "needs_background": "light"
          }
        }
      ]
    },
    {
      "cell_type": "code",
      "metadata": {
        "colab": {
          "base_uri": "https://localhost:8080/"
        },
        "id": "-qZJm5Vc687U",
        "outputId": "b12e3fcd-2784-4b23-ea07-ace8bb652ea4"
      },
      "source": [
        "model = build_model()\r\n",
        "model.fit(train_data, train_targets, epochs = 80, batch_size = 16, verbose = 0)\r\n",
        "test_mse_score, test_mae_score = model.evaluate(test_data, test_targets)"
      ],
      "execution_count": 27,
      "outputs": [
        {
          "output_type": "stream",
          "text": [
            "4/4 [==============================] - 0s 3ms/step - loss: 17.9008 - mae: 2.6287\n"
          ],
          "name": "stdout"
        }
      ]
    }
  ]
}